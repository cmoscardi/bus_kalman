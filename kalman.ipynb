{
 "cells": [
  {
   "cell_type": "markdown",
   "metadata": {},
   "source": [
    "## MTA API Interface / Parsing\n",
    "The code in the below cell simply interfaces with the MTA API and parses the response into a reasonable DataFrame object."
   ]
  },
  {
   "cell_type": "code",
   "execution_count": 1,
   "metadata": {
    "collapsed": false
   },
   "outputs": [],
   "source": [
    "import requests\n",
    "import pandas as pd\n",
    "import numpy as np\n",
    "from datetime import datetime\n",
    "\n",
    "# defining constants for ease-of-use\n",
    "lng_key = \"MonitoredVehicleJourney_VehicleLocation_Longitude\"\n",
    "lat_key = \"MonitoredVehicleJourney_VehicleLocation_Latitude\"\n",
    "bearing_key=\"MonitoredVehicleJourney_Bearing\"\n",
    "direction_key=\"MonitoredVehicleJourney_DirectionRef\"\n",
    "progress_key='MonitoredVehicleJourney_ProgressRate'\n",
    "line_key=u'MonitoredVehicleJourney_LineRef'\n",
    "dist_from_base_key = \"MonitoredVehicleJourney_MonitoredCall_Extensions_Distances_CallDistanceAlongRoute\"\n",
    "dist_to_next_stop_key = u'MonitoredVehicleJourney_MonitoredCall_Extensions_Distances_DistanceFromCall'\n",
    "timestamp_key = \"RecordedAtTime\"\n",
    "join_key = \"MonitoredVehicleJourney_FramedVehicleJourneyRef_DatedVehicleJourneyRef\"\n",
    "\n",
    "MTA_API_KEY=...\n",
    "MTA_API_BASE = \"http://bustime.mta.info/api/siri/vehicle-monitoring.json\"\n",
    "def _flatten_dict(root_key, nested_dict, flattened_dict):\n",
    "    for key, value in nested_dict.iteritems():\n",
    "        next_key = root_key + \"_\" + key if root_key != \"\" else key\n",
    "        if isinstance(value, dict):\n",
    "            _flatten_dict(next_key, value, flattened_dict)\n",
    "        else:\n",
    "            flattened_dict[next_key] = value\n",
    "    return flattened_dict\n",
    "    \n",
    "#This is useful for the live MTA Data\n",
    "params = {\"key\": MTA_API_KEY, }\n",
    "BUS_ID=\"MTA NYCT_M116\"\n",
    "params[\"LineRef\"] = BUS_ID\n",
    "def nyc_current():\n",
    "    resp = requests.get(MTA_API_BASE, params=params).json()\n",
    "    info = resp['Siri']['ServiceDelivery']['VehicleMonitoringDelivery'][0]['VehicleActivity']\n",
    "    return pd.DataFrame([_flatten_dict('', i, {}) for i in info])"
   ]
  },
  {
   "cell_type": "markdown",
   "metadata": {},
   "source": [
    "## Iterative Update Code\n",
    "\n",
    "Here, we implement the following kalman filter:\n",
    "- Our hidden state is the 4-element vector [lat, lng, velocity_lat, velocity_lng]\\*\n",
    "- Our measured state is [lat, lng, v_lat, v_lng] (see below: we could measure a velocity based on our previous state)\n",
    "- Our state transformation matrix is lat_new := dt * velocity_lat * current_lat (and likewise for lng). Velocities stay constant\n",
    "- Control matrix is just the identity. \n",
    "- Observation matrix is the identity.\n",
    "\n",
    "A couple of important notes:\n",
    "- We currently \"measure\" velocity at 5.5mph. A better approach would be to take the average velocity from the previous two timesteps. An even better approach would be to smooth this average with a prior derived from historical data. 5.5mph seems to work well enough for a first stab, though. An alternative approach would be to not measure velocity, since it's an ugly thing to measure. \n",
    "- An alternative, and probably comparable approach, would be to let the filter infer velocity as a non-measured state. We could do this by the following modification: \n",
    "    - Our measured state is (lat, lng, lat_old, lng_old)\n",
    "    - Observation matrix is: lat_est := lat (likewise for lng), v_lat_est := (lat - lat_old) / dt (likewise for lng)\n",
    "\n",
    "- Notably, velocity is also likely not linear: I'd expect it's sinusoidal with time (or with distance to next intersection). We'd want to improve our modelling there too.\n",
    "- We could plug in a substantial amount of information into our control matrix. For example, on manhattan bus lines, we could set up features to compute if the bus was going to need to make a 90 degree turn based on current position and next stop along the route.\n",
    "- (\\* from above) We're assuming our lat/long coordinates are locally cartesian enough to make estimates without worrying about spherical projections or nonlinear distance formulae. Again, incorporating better distance measurements is a v2 feature (and easily doable with a nonlinear kalman filter)\n"
   ]
  },
  {
   "cell_type": "code",
   "execution_count": 27,
   "metadata": {
    "collapsed": false
   },
   "outputs": [],
   "source": [
    "import geopy\n",
    "from geopy import Point\n",
    "from geopy.distance import vincenty\n",
    "from geopy.distance import VincentyDistance\n",
    "from collections import namedtuple\n",
    "\n",
    "KFTuple = namedtuple(\"KFTuple\", [\"model\", \"states\", \"means\", \"covariances\", \"update_times\", \"errors\"])\n",
    "KFTuple.__new__.__defaults__ = (None,) * len(KFTuple._fields)\n",
    "time_step = 5 # in seconds\n",
    "\n",
    "measurements_by_ref = {} # table of bus positions by route ID\n",
    "def update_route_measurements(cur_data):\n",
    "    route_refs = []\n",
    "    for row in cur_data.iterrows():\n",
    "        info = row[1]\n",
    "        route_ref = info[join_key]\n",
    "        route_refs.append(route_ref)\n",
    "        if route_ref not in measurements_by_ref:\n",
    "            measurements_by_ref[route_ref] = KFTuple(states=[info])\n",
    "        if measurements_by_ref[route_ref].states[-1][timestamp_key] == info[timestamp_key]:\n",
    "            continue # we're at same measurement\n",
    "      \n",
    "        measurements_by_ref[route_ref].states.append(info)\n",
    "    \n",
    "    return \"OK\"\n",
    "\n",
    "def update_bus_info():\n",
    "    cur_info =  nyc_current()\n",
    "    cur_info[timestamp_key] = cur_info[timestamp_key].apply(iso_to_datetime)\n",
    "    update_route_measurements(cur_info)\n",
    "    for route, kf_tuple in measurements_by_ref.iteritems():\n",
    "        measurements_by_ref[route] = update_model(kf_tuple)\n",
    "\n",
    "def iso_to_datetime(ts_string):\n",
    "    return datetime.strptime(ts_string.split(\".\")[0], \"%Y-%m-%dT%H:%M:%S\")\n",
    "\n",
    "        \n",
    "from pykalman import KalmanFilter\n",
    "def init_model(kf_tuple):\n",
    "    init = kf_tuple.states[-1]\n",
    "    # TODO: seed average bus speed based on model\n",
    "    v_lat, v_lng = v_to_components(5.5 / 3600., # assume bus is going 5.5mph to start [avg line speed]\n",
    "                                   init[bearing_key],\n",
    "                                   init[lat_key],\n",
    "                                   init[lng_key])\n",
    "    init['v_lat'] = v_lat\n",
    "    init['v_lng'] = v_lng\n",
    "    initial_state = kf_tuple.states[-1][[lat_key, \n",
    "                                        lng_key, \n",
    "                                        \"v_lat\",\n",
    "                                        \"v_lng\"]]\n",
    "    model = KalmanFilter(initial_state_mean=initial_state,\n",
    "                         initial_state_covariance=np.eye(4),\n",
    "                         transition_matrices=transition_matrix(5),\n",
    "                         n_dim_obs=4)\n",
    "    return KFTuple(model, kf_tuple.states, [initial_state], [np.eye(4)], [init[timestamp_key]], [])\n",
    "\n",
    "def update_model(kf_tuple):\n",
    "    model = kf_tuple.model \n",
    "    \n",
    "    if model is None:\n",
    "        return init_model(kf_tuple)\n",
    "    \n",
    "    latest = kf_tuple.states[-1]\n",
    "    # nothing to do\n",
    "    if latest[timestamp_key] == kf_tuple.update_times[-1]:\n",
    "        mean, cov = kf_tuple.model.filter_update(kf_tuple.means[-1],\n",
    "                                                 kf_tuple.covariances[-1])\n",
    "        kf_tuple.means.append(mean)\n",
    "        kf_tuple.covariances.append(cov)\n",
    "        return kf_tuple\n",
    "    else:\n",
    "        cur = kf_tuple.states[-1]\n",
    "        v_lat, v_lng = v_to_components(v_estimate(kf_tuple.states), # average bus speed, miles per second\n",
    "                                   cur[bearing_key],\n",
    "                                   cur[lat_key],\n",
    "                                   cur[lng_key])\n",
    "        cur['v_lat'] = v_lat\n",
    "        cur['v_lng'] = v_lng\n",
    "        cur_state = kf_tuple.states[-1][[lat_key, \n",
    "                                        lng_key, \n",
    "                                        \"v_lat\",\n",
    "                                        \"v_lng\"]]\n",
    "        mean, cov = kf_tuple.model.filter_update(kf_tuple.means[-1],\n",
    "                                                 kf_tuple.covariances[-1],\n",
    "                                                 cur_state)\n",
    "        interp_mean, interp_cov = kf_tuple.model.filter_update(kf_tuple.means[-1],\n",
    "                                                 kf_tuple.covariances[-1])\n",
    "        \n",
    "        kf_tuple.errors.append(forecast_error(mean, interp_mean))\n",
    "        kf_tuple.means.append(mean)\n",
    "        kf_tuple.covariances.append(cov)\n",
    "        kf_tuple.update_times.append(latest[timestamp_key])\n",
    "        return kf_tuple\n",
    "\n",
    "    \n",
    "import numpy as np\n",
    "def transition_matrix(dt):\n",
    "    T = np.eye(4)\n",
    "    T[0][2] = dt\n",
    "    T[1][3] = dt\n",
    "    return T\n",
    "\n",
    "from geopy.distance import vincenty\n",
    "def v_estimate(states):\n",
    "    # average bus speed\n",
    "    if len(states) == 1:\n",
    "        return 5.5 / 3600.\n",
    "    else:\n",
    "        p1 = (states[-2][lat_key], states[-2][lng_key])\n",
    "        p2 = (states[-1][lat_key], states[-1][lng_key])\n",
    "        t1 = states[-2][timestamp_key]\n",
    "        t2 = states[-1][timestamp_key]\n",
    "        return vincenty(p1, p2).miles / float((t2 - t1).seconds)\n",
    "\n",
    "def forecast_error(mean, interp_mean):\n",
    "    p1 = tuple(mean[:2])\n",
    "    p2 = tuple(interp_mean[:2])\n",
    "    return vincenty(p1, p2).miles\n",
    "\n",
    "# convert v, bearing to v_x, v_y components\n",
    "def v_to_components(v, bearing, lat, lng):\n",
    "    d = VincentyDistance(miles=v) # num miles / second\n",
    "    res = d.destination(geopy.Point(lat, lng), 90 - bearing) # nyc uses east / counterclockwise convention\n",
    "    out = (res.latitude - lat, res.longitude - lng)\n",
    "    return out\n",
    "\n",
    "\n",
    "def run():\n",
    "    import time\n",
    "    for i in range(50):\n",
    "        update_bus_info()\n",
    "        time.sleep(time_step)\n",
    "        print \"iteration {}\".format(i)\n"
   ]
  },
  {
   "cell_type": "code",
   "execution_count": 76,
   "metadata": {
    "collapsed": true
   },
   "outputs": [],
   "source": [
    "import dill\n",
    "with open('measurements3.pkl', 'w+') as out_f:\n",
    "    dill.dump(measurements_by_ref, out_f)"
   ]
  },
  {
   "cell_type": "code",
   "execution_count": 79,
   "metadata": {
    "collapsed": false
   },
   "outputs": [
    {
     "name": "stdout",
     "output_type": "stream",
     "text": [
      "('MV_A5-Weekday-SDon-111500_M116_314', 13)\n",
      "('MV_A5-Weekday-SDon-115500_M116_314', 1)\n",
      "('MV_A5-Weekday-SDon-111800_M116_312', 18)\n",
      "('MV_A5-Weekday-SDon-113500_M116_317', 3)\n",
      "('MV_A5-Weekday-SDon-112500_M116_313', 14)\n",
      "('MV_A5-Weekday-SDon-110900_M116_315', 19)\n",
      "('MV_A5-Weekday-SDon-110500_M116_316', 3)\n",
      "('MV_A5-Weekday-SDon-114500_M116_316', 22)\n",
      "('MV_A5-Weekday-SDon-109500_M116_317', 13)\n"
     ]
    }
   ],
   "source": [
    "print \"\\n\".join([str((k, len(v.states))) for k, v in measurements_by_ref.iteritems()])\n",
    "route_id=\"MV_A5-Weekday-SDon-114500_M116_316\""
   ]
  },
  {
   "cell_type": "code",
   "execution_count": 4,
   "metadata": {
    "collapsed": true
   },
   "outputs": [],
   "source": [
    "import ujson as json\n",
    "def kftuple_to_json(kf_tuple):\n",
    "    output_dict = {\"actual\": [(x[timestamp_key], x[lat_key], x[lng_key], x[bearing_key]) for x in kf_tuple.states],\n",
    "                   \"preds\": [(m, c) for m, c in zip(kf_tuple.means, zip(kf_tuple.covariances))]}\n",
    "    return json.dumps(output_dict)"
   ]
  },
  {
   "cell_type": "code",
   "execution_count": 90,
   "metadata": {
    "collapsed": false
   },
   "outputs": [],
   "source": [
    "# kftuple_to_json(measurements_by_ref[route_id])"
   ]
  },
  {
   "cell_type": "code",
   "execution_count": 80,
   "metadata": {
    "collapsed": false
   },
   "outputs": [],
   "source": [
    "f = open(\"visualization/static/test.json\", \"w+\")\n",
    "f.write(kftuple_to_json(measurements_by_ref[route_id]))\n",
    "f.close()"
   ]
  },
  {
   "cell_type": "code",
   "execution_count": 104,
   "metadata": {
    "collapsed": false
   },
   "outputs": [
    {
     "data": {
      "text/plain": [
       "[(40.800321, -73.965437),\n",
       " (40.79968, -73.963916),\n",
       " (40.799523, -73.963545),\n",
       " (40.799147, -73.962651),\n",
       " (40.798861, -73.96197)]"
      ]
     },
     "execution_count": 104,
     "metadata": {},
     "output_type": "execute_result"
    }
   ],
   "source": [
    "kf_tuple = measurements_by_ref[route_id]\n",
    "[(x[lat_key], x[lng_key]) for x in kf_tuple.states]\n",
    "# [(x[0], x[1], x[2], x[3]) for x in kf_tuple.means]"
   ]
  },
  {
   "cell_type": "code",
   "execution_count": 106,
   "metadata": {
    "collapsed": false,
    "scrolled": true
   },
   "outputs": [
    {
     "name": "stdout",
     "output_type": "stream",
     "text": [
      "========MTA NYCT_MV_A7-Weekday-SDon-091600_M116_208======\n",
      "(40.800915, -73.959823)\n",
      "(40.800711, -73.959972)\n",
      "(40.80026, -73.960303)\n",
      "(40.798793, -73.961375)\n",
      "(40.798793, -73.961375)\n",
      "(40.799139, -73.96263)\n",
      "(40.799673, -73.963899)\n",
      "(40.800363, -73.965537)\n",
      "(40.800346, -73.965496)\n",
      "========MTA NYCT_MV_A7-Weekday-SDon-089600_M116_206======\n",
      "(40.797466, -73.930856)\n",
      "(40.797466, -73.930856)\n",
      "(40.797466, -73.930856)\n",
      "(40.797466, -73.930856)\n",
      "(40.797466, -73.930856)\n",
      "(40.797466, -73.930856)\n",
      "(40.797509, -73.930956)\n",
      "(40.797551, -73.931056)\n",
      "========MTA NYCT_MV_A7-Weekday-SDon-090300_M10_9======\n",
      "(40.797381, -73.930656)\n",
      "(40.797381, -73.930656)\n",
      "(40.797381, -73.930656)\n",
      "(40.797381, -73.930656)\n",
      "(40.797381, -73.930656)\n",
      "(40.797381, -73.930656)\n",
      "(40.797381, -73.930656)\n",
      "(40.797381, -73.930656)\n",
      "(40.797381, -73.930656)\n",
      "========MTA NYCT_MV_A7-Weekday-SDon-093500_M10_5======\n",
      "(40.800321, -73.965437)\n",
      "(40.79968, -73.963916)\n",
      "(40.799523, -73.963545)\n",
      "(40.799147, -73.962651)\n",
      "(40.798861, -73.96197)\n",
      "========MTA NYCT_MV_A7-Weekday-SDon-092800_M116_213======\n",
      "(40.798535, -73.94141)\n",
      "(40.798535, -73.94141)\n",
      "(40.798535, -73.94141)\n",
      "(40.798535, -73.94141)\n",
      "(40.799074, -73.942687)\n",
      "(40.799115, -73.942784)\n",
      "(40.799642, -73.944034)\n",
      "(40.799823, -73.944464)\n",
      "(40.80012, -73.945169)\n",
      "========MTA NYCT_MV_A7-Weekday-SDon-092800_M116_214======\n",
      "(40.800472, -73.960147)\n",
      "(40.801714, -73.959242)\n",
      "(40.801993, -73.959039)\n",
      "(40.804158, -73.957462)\n",
      "(40.804251, -73.957392)\n",
      "(40.804861, -73.956945)\n",
      "(40.804641, -73.955895)\n",
      "(40.804554, -73.955689)\n",
      "(40.804121, -73.954662)\n",
      "========MTA NYCT_MV_A7-Weekday-SDon-091600_M10_10======\n",
      "(40.799888, -73.94462)\n",
      "(40.799717, -73.944213)\n",
      "(40.799717, -73.944213)\n",
      "(40.799175, -73.942927)\n",
      "(40.798544, -73.941431)\n",
      "(40.798433, -73.94117)\n",
      "(40.797841, -73.939776)\n",
      "(40.797469, -73.938888)\n",
      "(40.797105, -73.938017)\n",
      "========MTA NYCT_MV_A7-Weekday-SDon-090400_M98_108======\n",
      "(40.801238, -73.967612)\n",
      "(40.801221, -73.967571)\n",
      "(40.801221, -73.967571)\n",
      "========MTA NYCT_MV_A7-Weekday-SDon-093400_M116_216======\n",
      "(40.795532, -73.932807)\n",
      "(40.795449, -73.932868)\n",
      "(40.795241, -73.93302)\n",
      "(40.795181, -73.933458)\n",
      "(40.795301, -73.933744)\n",
      "(40.795877, -73.935113)\n",
      "(40.795877, -73.935113)\n",
      "(40.795894, -73.935152)\n",
      "(40.796017, -73.935445)\n",
      "========MTA NYCT_MV_A7-Weekday-SDon-091000_M98_102======\n",
      "(40.797076, -73.937948)\n",
      "(40.796207, -73.935894)\n",
      "(40.796178, -73.935824)\n",
      "(40.796228, -73.935244)\n",
      "(40.796255, -73.935225)\n",
      "(40.798335, -73.933702)\n",
      "(40.799322, -73.932982)\n",
      "(40.799697, -73.932708)\n",
      "(40.800434, -73.93214)\n",
      "========MTA NYCT_MV_A7-Weekday-SDon-089800_M10_5======\n",
      "(40.801203, -73.967529)\n",
      "(40.801203, -73.967529)\n",
      "========MTA NYCT_MV_A7-Weekday-SDon-094000_M116_206======\n",
      "(40.797037, -73.931705)\n",
      "========MTA NYCT_MV_A7-Weekday-SDon-092200_M116_212======\n",
      "(40.804519, -73.955607)\n",
      "(40.804528, -73.955628)\n",
      "(40.804528, -73.955628)\n",
      "(40.804528, -73.955628)\n",
      "(40.804528, -73.955628)\n",
      "(40.804142, -73.954711)\n",
      "(40.803429, -73.953018)\n",
      "(40.803408, -73.952968)\n",
      "(40.803062, -73.952147)\n",
      "========MTA NYCT_MV_A7-Weekday-SDon-092200_M10_8======\n",
      "(40.801624, -73.948733)\n",
      "(40.801717, -73.948954)\n",
      "(40.8017, -73.948914)\n",
      "(40.801945, -73.949495)\n",
      "(40.801919, -73.949435)\n",
      "(40.802225, -73.950159)\n",
      "(40.80226, -73.950244)\n",
      "(40.803172, -73.952409)\n",
      "(40.803485, -73.953151)\n",
      "========MTA NYCT_MV_A7-Weekday-SDon-091000_M116_215======\n",
      "(40.799768, -73.960664)\n",
      "(40.799462, -73.960885)\n",
      "(40.798813, -73.96136)\n",
      "(40.799026, -73.962363)\n",
      "(40.799345, -73.963121)\n",
      "(40.800156, -73.965046)\n",
      "(40.80026, -73.965292)\n",
      "(40.800571, -73.966029)\n",
      "(40.801168, -73.967445)\n"
     ]
    }
   ],
   "source": [
    "for i, t in measurements_by_ref.iteritems():\n",
    "    print \"========{}======\".format(i)\n",
    "    print \"\\n\".join([str((x[lat_key], x[lng_key])) for x in t.states])"
   ]
  },
  {
   "cell_type": "code",
   "execution_count": 7,
   "metadata": {
    "collapsed": true
   },
   "outputs": [],
   "source": [
    "def set_live_keys():\n",
    "    to_update = {\n",
    "        \"lng_key\":\"MonitoredVehicleJourney_VehicleLocation_Longitude\",\n",
    "        \"lat_key\": \"MonitoredVehicleJourney_VehicleLocation_Latitude\",\n",
    "        \"bearing_key\":\"MonitoredVehicleJourney_Bearing\",\n",
    "        \"direction_key\":\"MonitoredVehicleJourney_DirectionRef\",\n",
    "        \"progress_key\":'MonitoredVehicleJourney_ProgressRate',\n",
    "        \"line_key\":u'MonitoredVehicleJourney_LineRef',\n",
    "        \"dist_from_base_key\": \"MonitoredVehicleJourney_MonitoredCall_Extensions_Distances_CallDistanceAlongRoute\",\n",
    "        \"dist_to_next_stop_key\": u'MonitoredVehicleJourney_MonitoredCall_Extensions_Distances_DistanceFromCall',\n",
    "        \"timestamp_key\": \"RecordedAtTime\",\n",
    "        \"join_key\": \"MonitoredVehicleJourney_FramedVehicleJourneyRef_DatedVehicleJourneyRef\"\n",
    "    }\n",
    "    globals().update(to_update)\n",
    "    \n",
    "def set_back_keys():\n",
    "    to_update = {\n",
    "        \"lat_key\": \"latitude\",\n",
    "        \"lng_key\": \"longitude\",\n",
    "        \"bearing_key\": \"bearing\",\n",
    "        \"direction_key\": \"direction_id\",\n",
    "        \"progress_key\":  \"progress\",\n",
    "        \"line_key\": \"route_id\",\n",
    "        \"dist_from_base_key\": \"dist_along_route\",\n",
    "        \"dist_to_next_stop_key\": \"dist_from_stop\",\n",
    "        \"timestamp_key\": \"timestamp\",\n",
    "        \"join_key\": \"trip_id\",\n",
    "    }\n",
    "    globals().update(to_update)"
   ]
  },
  {
   "cell_type": "code",
   "execution_count": 19,
   "metadata": {
    "collapsed": true
   },
   "outputs": [],
   "source": [
    "set_back_keys()"
   ]
  },
  {
   "cell_type": "code",
   "execution_count": 22,
   "metadata": {
    "collapsed": false
   },
   "outputs": [],
   "source": [
    "set_live_keys()"
   ]
  },
  {
   "cell_type": "code",
   "execution_count": 23,
   "metadata": {
    "collapsed": false
   },
   "outputs": [
    {
     "data": {
      "text/plain": [
       "'MonitoredVehicleJourney_VehicleLocation_Latitude'"
      ]
     },
     "execution_count": 23,
     "metadata": {},
     "output_type": "execute_result"
    }
   ],
   "source": [
    "lat_key"
   ]
  },
  {
   "cell_type": "code",
   "execution_count": 28,
   "metadata": {
    "collapsed": true
   },
   "outputs": [],
   "source": [
    "from datetime import timedelta\n",
    "def run_simulation(df):\n",
    "    \"\"\"\n",
    "    :param df -- **the merged dataframe (on trips.txt)**\n",
    "    \"\"\"\n",
    "    # this is idempotent\n",
    "    set_back_keys()\n",
    "    base_time = df[timestamp_key].min()\n",
    "    prev_time = base_time\n",
    "    for i in xrange(1000):\n",
    "        if not (i % 10):\n",
    "            print \"{} seconds elapsed\".format(i)\n",
    "        delta = timedelta(seconds=i)\n",
    "        current_time = base_time + delta\n",
    "        cur_info = df[(df[timestamp_key] == current_time) & (df[line_key] == \"M116\")]\n",
    "        if cur_info.empty:\n",
    "            continue\n",
    "        update_route_measurements(cur_info)\n",
    "        for route, kf_tuple in measurements_by_ref.iteritems():\n",
    "            measurements_by_ref[route] = update_model(kf_tuple)\n",
    "\n",
    "    return \"Done\""
   ]
  },
  {
   "cell_type": "code",
   "execution_count": 29,
   "metadata": {
    "collapsed": false
   },
   "outputs": [
    {
     "name": "stdout",
     "output_type": "stream",
     "text": [
      "0 seconds elapsed\n",
      "10 seconds elapsed\n",
      "20 seconds elapsed\n",
      "30 seconds elapsed\n",
      "40 seconds elapsed\n",
      "50 seconds elapsed\n",
      "60 seconds elapsed\n",
      "70 seconds elapsed\n",
      "80 seconds elapsed\n",
      "90 seconds elapsed\n",
      "100 seconds elapsed\n",
      "110 seconds elapsed\n",
      "120 seconds elapsed\n",
      "130 seconds elapsed\n",
      "140 seconds elapsed\n",
      "150 seconds elapsed\n",
      "160 seconds elapsed\n",
      "170 seconds elapsed\n",
      "180 seconds elapsed\n",
      "190 seconds elapsed\n",
      "200 seconds elapsed\n",
      "210 seconds elapsed\n",
      "220 seconds elapsed\n",
      "230 seconds elapsed\n",
      "240 seconds elapsed\n",
      "250 seconds elapsed\n",
      "260 seconds elapsed\n",
      "270 seconds elapsed\n",
      "280 seconds elapsed\n",
      "290 seconds elapsed\n",
      "300 seconds elapsed\n",
      "310 seconds elapsed\n",
      "320 seconds elapsed\n",
      "330 seconds elapsed\n",
      "340 seconds elapsed\n",
      "350 seconds elapsed\n",
      "360 seconds elapsed\n",
      "370 seconds elapsed\n",
      "380 seconds elapsed\n",
      "390 seconds elapsed\n",
      "400 seconds elapsed\n",
      "410 seconds elapsed\n",
      "420 seconds elapsed\n",
      "430 seconds elapsed\n",
      "440 seconds elapsed\n",
      "450 seconds elapsed\n",
      "460 seconds elapsed\n",
      "470 seconds elapsed\n",
      "480 seconds elapsed\n",
      "490 seconds elapsed\n",
      "500 seconds elapsed\n",
      "510 seconds elapsed\n",
      "520 seconds elapsed\n",
      "530 seconds elapsed\n",
      "540 seconds elapsed\n",
      "550 seconds elapsed\n",
      "560 seconds elapsed\n",
      "570 seconds elapsed\n",
      "580 seconds elapsed\n",
      "590 seconds elapsed\n",
      "600 seconds elapsed\n",
      "610 seconds elapsed\n",
      "620 seconds elapsed\n",
      "630 seconds elapsed\n",
      "640 seconds elapsed\n",
      "650 seconds elapsed\n",
      "660 seconds elapsed\n",
      "670 seconds elapsed\n",
      "680 seconds elapsed\n",
      "690 seconds elapsed\n",
      "700 seconds elapsed\n",
      "710 seconds elapsed\n",
      "720 seconds elapsed\n",
      "730 seconds elapsed\n",
      "740 seconds elapsed\n",
      "750 seconds elapsed\n",
      "760 seconds elapsed\n",
      "770 seconds elapsed\n",
      "780 seconds elapsed\n",
      "790 seconds elapsed\n",
      "800 seconds elapsed\n",
      "810 seconds elapsed\n",
      "820 seconds elapsed\n",
      "830 seconds elapsed\n",
      "840 seconds elapsed\n",
      "850 seconds elapsed\n",
      "860 seconds elapsed\n",
      "870 seconds elapsed\n",
      "880 seconds elapsed\n",
      "890 seconds elapsed\n",
      "900 seconds elapsed\n",
      "910 seconds elapsed\n",
      "920 seconds elapsed\n",
      "930 seconds elapsed\n",
      "940 seconds elapsed\n",
      "950 seconds elapsed\n",
      "960 seconds elapsed\n",
      "970 seconds elapsed\n",
      "980 seconds elapsed\n",
      "990 seconds elapsed\n"
     ]
    },
    {
     "data": {
      "text/plain": [
       "'Done'"
      ]
     },
     "execution_count": 29,
     "metadata": {},
     "output_type": "execute_result"
    }
   ],
   "source": [
    "measurements_by_ref = {}\n",
    "# merged = parse_historical_input(\"hello\")\n",
    "run_simulation(merged)"
   ]
  },
  {
   "cell_type": "code",
   "execution_count": 12,
   "metadata": {
    "collapsed": true
   },
   "outputs": [],
   "source": [
    "import pandas as pd\n",
    "def parse_historical_input(filename):\n",
    "    set_back_keys()\n",
    "    df = pd.read_csv(\"bus_time_20150128.csv\")\n",
    "    trips = pd.read_csv(\"trips.txt\")\n",
    "    merged = df.merge(trips, on=\"trip_id\")\n",
    "    merged[timestamp_key] = pd.to_datetime(merged[timestamp_key], infer_datetime_format=True)\n",
    "    return merged"
   ]
  },
  {
   "cell_type": "code",
   "execution_count": 83,
   "metadata": {
    "collapsed": false
   },
   "outputs": [
    {
     "data": {
      "text/plain": [
       "0.024386582385034945"
      ]
     },
     "execution_count": 83,
     "metadata": {},
     "output_type": "execute_result"
    }
   ],
   "source": [
    "vincenty((40.799888, -73.94462),\n",
    "(40.799717, -73.944213)).miles"
   ]
  },
  {
   "cell_type": "code",
   "execution_count": 30,
   "metadata": {
    "collapsed": false
   },
   "outputs": [],
   "source": [
    "kt = measurements_by_ref.get(measurements_by_ref.keys()[0])"
   ]
  },
  {
   "cell_type": "code",
   "execution_count": 33,
   "metadata": {
    "collapsed": false
   },
   "outputs": [
    {
     "data": {
      "text/plain": [
       "0.9744439857832262"
      ]
     },
     "execution_count": 33,
     "metadata": {},
     "output_type": "execute_result"
    }
   ],
   "source": [
    "sum(kt.errors)"
   ]
  },
  {
   "cell_type": "code",
   "execution_count": null,
   "metadata": {
    "collapsed": true
   },
   "outputs": [],
   "source": []
  }
 ],
 "metadata": {
  "kernelspec": {
   "display_name": "Python 2",
   "language": "python",
   "name": "python2"
  },
  "language_info": {
   "codemirror_mode": {
    "name": "ipython",
    "version": 2
   },
   "file_extension": ".py",
   "mimetype": "text/x-python",
   "name": "python",
   "nbconvert_exporter": "python",
   "pygments_lexer": "ipython2",
   "version": "2.7.12"
  }
 },
 "nbformat": 4,
 "nbformat_minor": 0
}
